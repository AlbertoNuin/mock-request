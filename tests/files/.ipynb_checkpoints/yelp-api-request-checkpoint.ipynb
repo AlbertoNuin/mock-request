{
 "cells": [
  {
   "cell_type": "markdown",
   "metadata": {},
   "source": [
    "# Get a Yelp API response"
   ]
  },
  {
   "cell_type": "code",
   "execution_count": 1,
   "metadata": {},
   "outputs": [],
   "source": [
    "import requests\n",
    "import pickle\n",
    "import yaml"
   ]
  },
  {
   "cell_type": "markdown",
   "metadata": {},
   "source": [
    "You must create the `./.private/api_key.yml` YAML file with the following structure:\n",
    "\n",
    "```\n",
    "- API_KEY:\n",
    "    <YOUR API KEY VALUE>\n",
    "```\n"
   ]
  },
  {
   "cell_type": "code",
   "execution_count": 3,
   "metadata": {},
   "outputs": [],
   "source": [
    "# Read API key\n",
    "with open(\"./.private/api_key.yml\", \"r\") as f:\n",
    "    API_KEY = yaml.load(f)[0][\"API_KEY\"]"
   ]
  },
  {
   "cell_type": "code",
   "execution_count": 4,
   "metadata": {},
   "outputs": [],
   "source": [
    "# Define the base URL for the request\n",
    "base_url = \"https://api.yelp.com/v3/businesses/search\"\n",
    "\n",
    "# Set up the request headers -- API key is used here\n",
    "headers = {\"Authorization\": \"Bearer \" + API_KEY}"
   ]
  },
  {
   "cell_type": "code",
   "execution_count": 5,
   "metadata": {},
   "outputs": [],
   "source": [
    "# Define the request parameters\n",
    "params = {\n",
    "    \"location\": \"Newark, NJ\",\n",
    "    \"term\": \"laundromat\",\n",
    "    \"limit\": 5\n",
    "}"
   ]
  },
  {
   "cell_type": "code",
   "execution_count": 6,
   "metadata": {},
   "outputs": [],
   "source": [
    "response = requests.get(\n",
    "    base_url,\n",
    "    headers=headers,\n",
    "    params=params\n",
    ")"
   ]
  },
  {
   "cell_type": "code",
   "execution_count": 7,
   "metadata": {},
   "outputs": [],
   "source": [
    "with open(\"./yelp-api-laundromat-newark-response.pkl\", \"wb\") as f:\n",
    "    pickle.dump(response, f)"
   ]
  },
  {
   "cell_type": "markdown",
   "metadata": {},
   "source": [
    "# Is my key exposed in the response?\n"
   ]
  },
  {
   "cell_type": "code",
   "execution_count": 8,
   "metadata": {},
   "outputs": [],
   "source": [
    "from inspect import ismethod"
   ]
  },
  {
   "cell_type": "code",
   "execution_count": 9,
   "metadata": {},
   "outputs": [
    {
     "name": "stdout",
     "output_type": "stream",
     "text": [
      "__attrs__ : PASS.\n",
      "__bool__ : PASS.\n",
      "__class__ : PASS.\n",
      "__delattr__ : PASS.\n",
      "__dict__ : PASS.\n",
      "__dir__ : PASS.\n",
      "__doc__ : PASS.\n",
      "__enter__ : PASS.\n",
      "__eq__ : PASS.\n",
      "__exit__ : PASS.\n",
      "__format__ : PASS.\n",
      "__ge__ : PASS.\n",
      "__getattribute__ : PASS.\n",
      "__getstate__ : PASS.\n",
      "__gt__ : PASS.\n",
      "__hash__ : PASS.\n",
      "__init_subclass__ : PASS.\n",
      "__le__ : PASS.\n",
      "__lt__ : PASS.\n",
      "__ne__ : PASS.\n",
      "__new__ : PASS.\n",
      "__reduce__ : PASS.\n",
      "__reduce_ex__ : PASS.\n",
      "__setattr__ : PASS.\n",
      "__sizeof__ : PASS.\n",
      "__str__ : PASS.\n",
      "__subclasshook__ : PASS.\n",
      "__weakref__ : PASS.\n",
      "_content : PASS.\n",
      "_content_consumed : PASS.\n",
      "apparent_encoding : PASS.\n",
      "close : PASS.\n",
      "content : PASS.\n",
      "cookies : PASS.\n",
      "elapsed : PASS.\n",
      "encoding : PASS.\n",
      "headers : PASS.\n",
      "history : PASS.\n",
      "is_permanent_redirect : PASS.\n",
      "is_redirect : PASS.\n",
      "iter_content : PASS.\n",
      "iter_lines : PASS.\n",
      "json : PASS.\n",
      "links : PASS.\n",
      "ok : PASS.\n",
      "raise_for_status : PASS.\n",
      "raw : PASS.\n",
      "reason : PASS.\n",
      "request : PASS.\n",
      "status_code : PASS.\n",
      "text : PASS.\n",
      "url : PASS.\n"
     ]
    }
   ],
   "source": [
    "# Load pickled response\n",
    "with open(\"./yelp-api-laundromat-newark-response.pkl\", \"rb\") as f:\n",
    "    loaded_response = pickle.load(f)\n",
    "    \n",
    "\n",
    "# List of methods to skip in the check\n",
    "SKIP = [\n",
    "    \"__nonzero__\", \n",
    "    \"__setstate__\", \n",
    "    \"__repr__\", \n",
    "    \"__iter__\", \n",
    "    \"__module__\", \n",
    "    \"__init__\", \n",
    "    \"next\"\n",
    "]\n",
    "\n",
    "# Check if API_KEY is in response attributes\n",
    "for name in dir(loaded_response):\n",
    "    \n",
    "    if name in SKIP:\n",
    "        continue\n",
    "    \n",
    "    # \n",
    "    att = getattr(loaded_response, name)\n",
    " \n",
    "    if ismethod(att):\n",
    "        att_text = str(att())\n",
    "    elif not isinstance(att, str):\n",
    "        att_text = str(att)\n",
    "    else:\n",
    "        att_text = att\n",
    "\n",
    "    if API_KEY in att_text:\n",
    "        print(name, \": FAIL.\\tWARNING: KEY EXPOSED!\")\n",
    "\n",
    "    else:\n",
    "        print(name, \": PASS.\")"
   ]
  },
  {
   "cell_type": "markdown",
   "metadata": {},
   "source": [
    "# Errors"
   ]
  },
  {
   "cell_type": "code",
   "execution_count": 10,
   "metadata": {},
   "outputs": [
    {
     "name": "stdout",
     "output_type": "stream",
     "text": [
      "<Response [404]>\n",
      "<Response [400]>\n",
      "<Response [400]>\n"
     ]
    }
   ],
   "source": [
    "# \n",
    "errored_requests = [\n",
    "    # Wrong base URL\n",
    "    {\n",
    "        \"pickle_file\": \"./yelp-api-wrong-base-url-response.pkl\",\n",
    "        \"url\": \"https://api.yelp.com/v3/a_wrong_url\",\n",
    "        \"headers\": headers,\n",
    "        \"params\": params\n",
    "    },\n",
    "    \n",
    "    # Missing API key\n",
    "    {\n",
    "        \"pickle_file\": \"./yelp-api-missing-key-response.pkl\",\n",
    "        \"url\": base_url,\n",
    "        \"params\": params,\n",
    "        \"headers\": {}\n",
    "    },\n",
    "    \n",
    "    # Wrong location parameter name\n",
    "    {\n",
    "        \"pickle_file\": \"./yelp-api-wrong-location-parameter-response.pkl\",\n",
    "        \"url\": base_url,\n",
    "        \"headers\": headers,\n",
    "        \"params\": {\n",
    "            \"locationnnnnnn\": \"Newark, NJ\",\n",
    "            \"term\": \"laundromat\",\n",
    "            \"limit\": 5\n",
    "        }\n",
    "    }\n",
    "]\n",
    "\n",
    "for er in errored_requests:\n",
    "\n",
    "    with open(er[\"pickle_file\"], \"wb\") as f:\n",
    "\n",
    "        \n",
    "        del(er[\"pickle_file\"])\n",
    "        \n",
    "        r = requests.get(**er)\n",
    "\n",
    "        #pickle.dump(r, f)\n",
    "        print(r)"
   ]
  },
  {
   "cell_type": "markdown",
   "metadata": {},
   "source": [
    "# Save objects for tests"
   ]
  },
  {
   "cell_type": "code",
   "execution_count": 11,
   "metadata": {},
   "outputs": [],
   "source": [
    "from mock_request.utils import save_requests_info"
   ]
  },
  {
   "cell_type": "code",
   "execution_count": 15,
   "metadata": {},
   "outputs": [],
   "source": [
    "test_params = params.copy()\n",
    "test_params[\"base_url\"] = base_url\n",
    "test_params[\"pickle_path\"] = \"/home/adrian/Projects/mock-request/tests/files/yelp-api-laundromat-newark-response.pkl\"\n",
    "save_requests_info([test_params], \"./requests_info_tests.json\")\n",
    "del test_params[\"pickle_path\"]"
   ]
  },
  {
   "cell_type": "code",
   "execution_count": 13,
   "metadata": {},
   "outputs": [],
   "source": [
    "from mock_request.requests import MockRequests"
   ]
  },
  {
   "cell_type": "code",
   "execution_count": 14,
   "metadata": {},
   "outputs": [
    {
     "ename": "FileNotFoundError",
     "evalue": "[Errno 2] No such file or directory: './requests_info_tests.json'",
     "output_type": "error",
     "traceback": [
      "\u001b[0;31m---------------------------------------------------------------------------\u001b[0m",
      "\u001b[0;31mFileNotFoundError\u001b[0m                         Traceback (most recent call last)",
      "\u001b[0;32m<ipython-input-14-03f729ce8bc5>\u001b[0m in \u001b[0;36m<module>\u001b[0;34m\u001b[0m\n\u001b[0;32m----> 1\u001b[0;31m \u001b[0mrequests\u001b[0m \u001b[0;34m=\u001b[0m \u001b[0mMockRequests\u001b[0m\u001b[0;34m(\u001b[0m\u001b[0;34m\"./requests_info_tests.json\"\u001b[0m\u001b[0;34m,\u001b[0m \u001b[0;34m\"../tests/files/errors_test.csv\"\u001b[0m\u001b[0;34m,\u001b[0m \u001b[0;36m404\u001b[0m\u001b[0;34m)\u001b[0m\u001b[0;34m\u001b[0m\u001b[0;34m\u001b[0m\u001b[0m\n\u001b[0m",
      "\u001b[0;32m~/Projects/mock-request/mock_request/requests.py\u001b[0m in \u001b[0;36m__init__\u001b[0;34m(self, requests_data_path, errors_data_path, error_type)\u001b[0m\n\u001b[1;32m     33\u001b[0m \u001b[0;34m\u001b[0m\u001b[0m\n\u001b[1;32m     34\u001b[0m         \u001b[0;31m# Read data from all accessible requests\u001b[0m\u001b[0;34m\u001b[0m\u001b[0;34m\u001b[0m\u001b[0;34m\u001b[0m\u001b[0m\n\u001b[0;32m---> 35\u001b[0;31m         \u001b[0mrequests_data\u001b[0m \u001b[0;34m=\u001b[0m \u001b[0mself\u001b[0m\u001b[0;34m.\u001b[0m\u001b[0m_load_requests_data\u001b[0m\u001b[0;34m(\u001b[0m\u001b[0;34m)\u001b[0m\u001b[0;34m\u001b[0m\u001b[0;34m\u001b[0m\u001b[0m\n\u001b[0m\u001b[1;32m     36\u001b[0m         \u001b[0;32mif\u001b[0m \u001b[0;32mnot\u001b[0m \u001b[0misinstance\u001b[0m\u001b[0;34m(\u001b[0m\u001b[0mrequests_data\u001b[0m\u001b[0;34m,\u001b[0m \u001b[0mlist\u001b[0m\u001b[0;34m)\u001b[0m\u001b[0;34m:\u001b[0m\u001b[0;34m\u001b[0m\u001b[0;34m\u001b[0m\u001b[0m\n\u001b[1;32m     37\u001b[0m             \u001b[0;32mraise\u001b[0m \u001b[0mTypeError\u001b[0m\u001b[0;34m(\u001b[0m\u001b[0;34m\"The file %(filepath)s does contain a list.\"\u001b[0m\u001b[0;34m.\u001b[0m\u001b[0mformat\u001b[0m\u001b[0;34m(\u001b[0m\u001b[0mself\u001b[0m\u001b[0;34m.\u001b[0m\u001b[0m_requests_data_path\u001b[0m\u001b[0;34m)\u001b[0m\u001b[0;34m)\u001b[0m\u001b[0;34m\u001b[0m\u001b[0;34m\u001b[0m\u001b[0m\n",
      "\u001b[0;32m~/Projects/mock-request/mock_request/requests.py\u001b[0m in \u001b[0;36m_load_requests_data\u001b[0;34m(self, path)\u001b[0m\n\u001b[1;32m    140\u001b[0m             \u001b[0mpath\u001b[0m \u001b[0;34m=\u001b[0m \u001b[0mself\u001b[0m\u001b[0;34m.\u001b[0m\u001b[0m_requests_data_path\u001b[0m\u001b[0;34m\u001b[0m\u001b[0;34m\u001b[0m\u001b[0m\n\u001b[1;32m    141\u001b[0m \u001b[0;34m\u001b[0m\u001b[0m\n\u001b[0;32m--> 142\u001b[0;31m         \u001b[0;32mwith\u001b[0m \u001b[0mopen\u001b[0m\u001b[0;34m(\u001b[0m\u001b[0mpath\u001b[0m\u001b[0;34m,\u001b[0m \u001b[0;34m'r'\u001b[0m\u001b[0;34m)\u001b[0m \u001b[0;32mas\u001b[0m \u001b[0mf\u001b[0m\u001b[0;34m:\u001b[0m\u001b[0;34m\u001b[0m\u001b[0;34m\u001b[0m\u001b[0m\n\u001b[0m\u001b[1;32m    143\u001b[0m             \u001b[0;32mreturn\u001b[0m \u001b[0mliteral_eval\u001b[0m\u001b[0;34m(\u001b[0m\u001b[0mf\u001b[0m\u001b[0;34m.\u001b[0m\u001b[0mread\u001b[0m\u001b[0;34m(\u001b[0m\u001b[0;34m)\u001b[0m\u001b[0;34m)\u001b[0m  \u001b[0;31m# literal_eval converts string into python objects\u001b[0m\u001b[0;34m\u001b[0m\u001b[0;34m\u001b[0m\u001b[0m\n",
      "\u001b[0;31mFileNotFoundError\u001b[0m: [Errno 2] No such file or directory: './requests_info_tests.json'"
     ]
    }
   ],
   "source": [
    "requests = MockRequests(\"./requests_info_tests.json\", \"../tests/files/errors_test.csv\", 404)"
   ]
  },
  {
   "cell_type": "code",
   "execution_count": null,
   "metadata": {},
   "outputs": [],
   "source": [
    "# SCRATCHPAD\n",
    "\n",
    "#requests._lookup_table['request_info'][0]# == test_params\n",
    "#requests._lookup_table[requests._lookup_table['request_info'] == test_params]['pickle_path'].iloc[0]\n",
    "requests._load_pickle(requests._lookup_table[requests._lookup_table['request_info'] == test_params]['pickle_path'].iloc[0])"
   ]
  },
  {
   "cell_type": "code",
   "execution_count": null,
   "metadata": {},
   "outputs": [],
   "source": [
    "requests.get(base_url, test_params)"
   ]
  }
 ],
 "metadata": {
  "kernelspec": {
   "display_name": "Python 3",
   "language": "python",
   "name": "python3"
  },
  "language_info": {
   "codemirror_mode": {
    "name": "ipython",
    "version": 3
   },
   "file_extension": ".py",
   "mimetype": "text/x-python",
   "name": "python",
   "nbconvert_exporter": "python",
   "pygments_lexer": "ipython3",
   "version": "3.6.9"
  }
 },
 "nbformat": 4,
 "nbformat_minor": 2
}
